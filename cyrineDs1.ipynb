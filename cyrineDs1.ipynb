{
 "cells": [
  {
   "cell_type": "code",
   "execution_count": 1,
   "id": "bc2a191d-2497-44e4-b8b4-0839509ec567",
   "metadata": {},
   "outputs": [],
   "source": [
    "import streamlit as st\n",
    "import pandas as pd\n",
    "import plotly.express as px"
   ]
  },
  {
   "cell_type": "code",
   "execution_count": 2,
   "id": "523492f9-270e-4dcf-b3e0-6e0f8f91dc99",
   "metadata": {},
   "outputs": [
    {
     "name": "stderr",
     "output_type": "stream",
     "text": [
      "2025-05-14 21:55:51.762 WARNING streamlit.runtime.caching.cache_data_api: No runtime found, using MemoryCacheStorageManager\n",
      "2025-05-14 21:55:52.125 \n",
      "  \u001b[33m\u001b[1mWarning:\u001b[0m to view this Streamlit app on a browser, run it with the following\n",
      "  command:\n",
      "\n",
      "    streamlit run c:\\Users\\Haithem\\anaconda3\\Lib\\site-packages\\ipykernel_launcher.py [ARGUMENTS]\n",
      "2025-05-14 21:55:52.133 No runtime found, using MemoryCacheStorageManager\n"
     ]
    }
   ],
   "source": [
    "# 1. Load and clean the data\n",
    "@st.cache_data\n",
    "def load_data():\n",
    "    df = pd.read_csv('Superstore.csv', encoding='ISO-8859-1')\n",
    "    df.dropna(inplace=True)\n",
    "    df['Order Date'] = pd.to_datetime(df['Order Date'])\n",
    "    df['Ship Date'] = pd.to_datetime(df['Ship Date'])\n",
    "    df['Profit Margin (%)'] = (df['Profit'] / df['Sales']) * 100\n",
    "    return df\n",
    "\n",
    "df = load_data()"
   ]
  },
  {
   "cell_type": "code",
   "execution_count": 3,
   "id": "27b4e523-7db0-49d1-b04a-9fe158de4090",
   "metadata": {},
   "outputs": [],
   "source": [
    "# 2. Sidebar filters\n",
    "st.sidebar.title(\"Filters\")\n",
    "regions = st.sidebar.multiselect(\"Select Region(s):\", df['Region'].unique(), default=df['Region'].unique())\n",
    "categories = st.sidebar.multiselect(\"Select Category(s):\", df['Category'].unique(), default=df['Category'].unique())\n",
    "date_range = st.sidebar.date_input(\"Select Order Date Range:\",\n",
    "                                   [df['Order Date'].min(), df['Order Date'].max()])\n",
    "\n",
    "filtered_df = df[\n",
    "    (df['Region'].isin(regions)) &\n",
    "    (df['Category'].isin(categories)) &\n",
    "    (df['Order Date'] >= pd.to_datetime(date_range[0])) &\n",
    "    (df['Order Date'] <= pd.to_datetime(date_range[1]))\n",
    "]"
   ]
  },
  {
   "cell_type": "code",
   "execution_count": 4,
   "id": "b8e26ec3-0d01-4200-a0d9-c7335652cb38",
   "metadata": {},
   "outputs": [
    {
     "data": {
      "text/plain": [
       "DeltaGenerator()"
      ]
     },
     "execution_count": 4,
     "metadata": {},
     "output_type": "execute_result"
    }
   ],
   "source": [
    "# 3. Title\n",
    "st.title(\"📊 Superstore Sales Performance Dashboard\")\n",
    "st.markdown(\"A dynamic dashboard to analyze sales, profit, and performance metrics from the Superstore dataset.\")\n"
   ]
  },
  {
   "cell_type": "code",
   "execution_count": 5,
   "id": "d2e157e7-219a-4252-b760-f20ac87a44e2",
   "metadata": {},
   "outputs": [
    {
     "name": "stdout",
     "output_type": "stream",
     "text": [
      "\n"
     ]
    },
    {
     "data": {
      "text/plain": [
       "DeltaGenerator()"
      ]
     },
     "execution_count": 5,
     "metadata": {},
     "output_type": "execute_result"
    }
   ],
   "source": [
    "# 4. KPIs\n",
    "total_sales = filtered_df['Sales'].sum()\n",
    "total_profit = filtered_df['Profit'].sum()\n",
    "profit_margin = (total_profit / total_sales) * 100\n",
    "col1, col2, col3 = st.columns(3)\n",
    "col1.metric(\"Total Sales\", f\"${total_sales:,.2f}\")\n",
    "print()\n",
    "col2.metric(\"Total Profit\", f\"${total_profit:,.2f}\")\n",
    "col3.metric(\"Profit Margin\", f\"{profit_margin:.2f}%\")"
   ]
  },
  {
   "cell_type": "code",
   "execution_count": 6,
   "id": "494ee519-8124-4537-a9bb-0a26bbec4db3",
   "metadata": {},
   "outputs": [
    {
     "data": {
      "text/plain": [
       "DeltaGenerator()"
      ]
     },
     "execution_count": 6,
     "metadata": {},
     "output_type": "execute_result"
    }
   ],
   "source": [
    "# Sales Over Time (Fixed)\n",
    "sales_by_month = (\n",
    "    filtered_df\n",
    "    .groupby(filtered_df['Order Date'].dt.to_period(\"M\"))[['Sales']]\n",
    "    .sum()\n",
    "    .reset_index()\n",
    ")\n",
    "sales_by_month['Order Date'] = sales_by_month['Order Date'].astype(str)\n",
    "\n",
    "fig1 = px.line(sales_by_month, x='Order Date', y='Sales', title='📈 Monthly Sales Trend')\n",
    "st.plotly_chart(fig1)"
   ]
  },
  {
   "cell_type": "code",
   "execution_count": 7,
   "id": "d87d2113-9395-4452-b32f-7c8c9424d2da",
   "metadata": {},
   "outputs": [],
   "source": [
    "# Sales by Category\n",
    "sales_by_category = filtered_df.groupby('Category')['Sales'].sum().reset_index()\n",
    "fig2 = px.bar(sales_by_category, x='Category', y='Sales', title='📦 Sales by Product Category',\n",
    "              color='Sales', color_continuous_scale='Blues')\n",
    "st.plotly_chart(fig2)\n",
    "\n",
    "# Profit by Region\n",
    "profit_by_region = filtered_df.groupby('Region')['Profit'].sum().reset_index()\n",
    "fig3 = px.bar(profit_by_region, x='Region', y='Profit', title='🌍 Profit by Region',\n",
    "              color='Profit', color_continuous_scale='RdYlGn')\n",
    "st.plotly_chart(fig3)\n",
    "\n",
    "# Data Preview (optional)\n",
    "with st.expander(\"🔍 View Filtered Data\"):\n",
    "    st.dataframe(filtered_df[['Order Date', 'Region', 'Category', 'Sales', 'Profit', 'Profit Margin (%)']])\n"
   ]
  },
  {
   "cell_type": "code",
   "execution_count": null,
   "id": "f1d2ad04-c710-44d7-aa3d-c3066546705a",
   "metadata": {},
   "outputs": [],
   "source": []
  }
 ],
 "metadata": {
  "kernelspec": {
   "display_name": "base",
   "language": "python",
   "name": "python3"
  },
  "language_info": {
   "codemirror_mode": {
    "name": "ipython",
    "version": 3
   },
   "file_extension": ".py",
   "mimetype": "text/x-python",
   "name": "python",
   "nbconvert_exporter": "python",
   "pygments_lexer": "ipython3",
   "version": "3.12.7"
  }
 },
 "nbformat": 4,
 "nbformat_minor": 5
}
